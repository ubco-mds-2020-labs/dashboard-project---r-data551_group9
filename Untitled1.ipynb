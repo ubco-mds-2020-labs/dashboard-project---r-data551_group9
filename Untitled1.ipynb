{
 "cells": [
  {
   "cell_type": "code",
   "execution_count": 5,
   "id": "silver-street",
   "metadata": {},
   "outputs": [],
   "source": [
    "import dash\n",
    "import numpy as np\n",
    "import pandas as pd\n",
    "import dash_html_components as html\n",
    "import dash_core_components as dcc\n",
    "from dash.dependencies import Input, Output\n",
    "import dash_bootstrap_components as dbc\n",
    "\n",
    "import altair as alt\n",
    "from vega_datasets import data\n",
    "\n",
    "hr = pd.read_csv(\"analysis.csv\")\n",
    "\n",
    "hr4 = hr[[\"education_level\", \"major_discipline\", \"experience\", \"target\"]].fillna(\"None\")\n",
    "hr4.experience.replace(\"<1\",0, inplace=True)\n",
    "hr4.experience.replace(\">20\",21, inplace=True)\n",
    "bins_4 = [-1, 7, 14, 21, 28]\n",
    "lab_4 = [\"Limit Experienced (0-7)\", \"Medium Experienced (8-14)\", \"Experienced (>=15)\", \"Experience not provided\"]\n",
    "hr4.experience.replace(\"None\",23, inplace = True)\n",
    "sli = hr4.experience.astype(int)\n",
    "hr4[\"experience_level\"] = pd.cut(sli, bins = bins_4, labels = lab_4)\n",
    "#hr4.to_csv(\"hr4.csv\")"
   ]
  }
 ],
 "metadata": {
  "kernelspec": {
   "display_name": "Python 3",
   "language": "python",
   "name": "python3"
  },
  "language_info": {
   "codemirror_mode": {
    "name": "ipython",
    "version": 3
   },
   "file_extension": ".py",
   "mimetype": "text/x-python",
   "name": "python",
   "nbconvert_exporter": "python",
   "pygments_lexer": "ipython3",
   "version": "3.8.3"
  }
 },
 "nbformat": 4,
 "nbformat_minor": 5
}
